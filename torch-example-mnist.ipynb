{
 "cells": [
  {
   "cell_type": "code",
   "execution_count": 2,
   "metadata": {},
   "outputs": [],
   "source": [
    "import torch\n",
    "from torch import nn\n",
    "from torch.utils.data import DataLoader\n",
    "from torchvision import datasets\n",
    "from torchvision.transforms import ToTensor\n",
    "\n",
    "import time"
   ]
  },
  {
   "cell_type": "code",
   "execution_count": 11,
   "metadata": {},
   "outputs": [],
   "source": [
    "# Download training data from open datasets.\n",
    "training_data = datasets.MNIST(\n",
    "    root=\"data\",\n",
    "    train=True,\n",
    "    download=True,\n",
    "    transform=ToTensor(),\n",
    ")\n",
    "\n",
    "# Download test data from open datasets.\n",
    "test_data = datasets.MNIST(\n",
    "    root=\"data\",\n",
    "    train=False,\n",
    "    download=True,\n",
    "    transform=ToTensor(),\n",
    ")"
   ]
  },
  {
   "cell_type": "code",
   "execution_count": 12,
   "metadata": {},
   "outputs": [
    {
     "name": "stdout",
     "output_type": "stream",
     "text": [
      "Shape of X [N, C, H, W]: torch.Size([64, 1, 28, 28])\n",
      "Shape of y: torch.Size([64]) torch.int64\n"
     ]
    }
   ],
   "source": [
    "batch_size = 64\n",
    "\n",
    "# Create data loaders.\n",
    "train_dataloader = DataLoader(training_data, batch_size=batch_size)\n",
    "test_dataloader = DataLoader(test_data, batch_size=batch_size)\n",
    "\n",
    "for X, y in test_dataloader:\n",
    "    print(f\"Shape of X [N, C, H, W]: {X.shape}\")\n",
    "    print(f\"Shape of y: {y.shape} {y.dtype}\")\n",
    "    break"
   ]
  },
  {
   "cell_type": "code",
   "execution_count": 28,
   "metadata": {},
   "outputs": [
    {
     "name": "stdout",
     "output_type": "stream",
     "text": [
      "Using cpu device\n"
     ]
    }
   ],
   "source": [
    "# device = torch.accelerator.current_accelerator().type if torch.accelerator.is_available() else \"cpu\"\n",
    "device = \"cpu\"\n",
    "print(f\"Using {device} device\")"
   ]
  },
  {
   "cell_type": "code",
   "execution_count": null,
   "metadata": {},
   "outputs": [
    {
     "name": "stdout",
     "output_type": "stream",
     "text": [
      "Using mps device\n",
      "NeuralNetwork(\n",
      "  (flatten): Flatten(start_dim=1, end_dim=-1)\n",
      "  (linear_sigmoid_stack): Sequential(\n",
      "    (0): Linear(in_features=784, out_features=84, bias=True)\n",
      "    (1): ReLU()\n",
      "    (2): Linear(in_features=84, out_features=84, bias=True)\n",
      "    (3): ReLU()\n",
      "    (4): Linear(in_features=84, out_features=10, bias=True)\n",
      "    (5): Softmax(dim=None)\n",
      "  )\n",
      ")\n"
     ]
    }
   ],
   "source": [
    "# Define model\n",
    "class NeuralNetwork(nn.Module):\n",
    "    def __init__(self):\n",
    "        super().__init__()\n",
    "        self.flatten = nn.Flatten()\n",
    "        self.linear_sigmoid_stack = nn.Sequential(\n",
    "            nn.Linear(28*28, 84),\n",
    "            nn.ReLU(),\n",
    "            nn.Linear(84, 84),\n",
    "            nn.ReLU(),\n",
    "            nn.Linear(84, 10),\n",
    "            nn.Softmax()\n",
    "        )\n",
    "\n",
    "    def forward(self, x):\n",
    "        x = self.flatten(x)\n",
    "        logits = self.linear_sigmoid_stack(x)\n",
    "        return logits\n",
    "\n",
    "model = NeuralNetwork().to(device)\n",
    "print(model)"
   ]
  },
  {
   "cell_type": "code",
   "execution_count": 13,
   "metadata": {},
   "outputs": [],
   "source": [
    "loss_fn = nn.CrossEntropyLoss()\n",
    "optimizer = torch.optim.SGD(model.parameters(), lr=1e-3)"
   ]
  },
  {
   "cell_type": "code",
   "execution_count": 14,
   "metadata": {},
   "outputs": [],
   "source": [
    "def train(dataloader, model, loss_fn, optimizer):\n",
    "    size = len(dataloader.dataset)\n",
    "    model.train()\n",
    "    for batch, (X, y) in enumerate(dataloader):\n",
    "        X, y = X.to(device), y.to(device)\n",
    "\n",
    "        # Compute prediction error\n",
    "        pred = model(X)\n",
    "        loss = loss_fn(pred, y)\n",
    "\n",
    "        # Backpropagation\n",
    "        loss.backward()\n",
    "        optimizer.step()\n",
    "        optimizer.zero_grad()\n",
    "\n",
    "        if batch % 100 == 0:\n",
    "            loss, current = loss.item(), (batch + 1) * len(X)\n",
    "            print(f\"loss: {loss:>7f}  [{current:>5d}/{size:>5d}]\")"
   ]
  },
  {
   "cell_type": "code",
   "execution_count": 15,
   "metadata": {},
   "outputs": [],
   "source": [
    "def test(dataloader, model, loss_fn):\n",
    "    size = len(dataloader.dataset)\n",
    "    num_batches = len(dataloader)\n",
    "    model.eval()\n",
    "    test_loss, correct = 0, 0\n",
    "    with torch.no_grad():\n",
    "        for X, y in dataloader:\n",
    "            X, y = X.to(device), y.to(device)\n",
    "            pred = model(X)\n",
    "            test_loss += loss_fn(pred, y).item()\n",
    "            correct += (pred.argmax(1) == y).type(torch.float).sum().item()\n",
    "    test_loss /= num_batches\n",
    "    correct /= size\n",
    "    print(f\"Test Error: \\n Accuracy: {(100*correct):>0.1f}%, Avg loss: {test_loss:>8f} \\n\")"
   ]
  },
  {
   "cell_type": "code",
   "execution_count": 32,
   "metadata": {},
   "outputs": [
    {
     "name": "stdout",
     "output_type": "stream",
     "text": [
      "loss: 2.299937  [   64/60000]\n",
      "loss: 2.291889  [ 6464/60000]\n",
      "loss: 2.310803  [12864/60000]\n",
      "loss: 2.309150  [19264/60000]\n",
      "loss: 2.308951  [25664/60000]\n",
      "loss: 2.304678  [32064/60000]\n",
      "loss: 2.311326  [38464/60000]\n",
      "loss: 2.293667  [44864/60000]\n",
      "loss: 2.307395  [51264/60000]\n",
      "loss: 2.325466  [57664/60000]\n",
      "Test Error: \n",
      " Accuracy: 8.9%, Avg loss: 2.306398 \n",
      "\n",
      "loss: 2.299937  [   64/60000]\n",
      "loss: 2.291889  [ 6464/60000]\n",
      "loss: 2.310803  [12864/60000]\n",
      "loss: 2.309150  [19264/60000]\n",
      "loss: 2.308951  [25664/60000]\n",
      "loss: 2.304678  [32064/60000]\n",
      "loss: 2.311326  [38464/60000]\n",
      "loss: 2.293667  [44864/60000]\n",
      "loss: 2.307395  [51264/60000]\n",
      "loss: 2.325466  [57664/60000]\n",
      "Test Error: \n",
      " Accuracy: 8.9%, Avg loss: 2.306398 \n",
      "\n",
      "loss: 2.299937  [   64/60000]\n",
      "loss: 2.291889  [ 6464/60000]\n",
      "loss: 2.310803  [12864/60000]\n",
      "loss: 2.309150  [19264/60000]\n",
      "loss: 2.308951  [25664/60000]\n",
      "loss: 2.304678  [32064/60000]\n",
      "loss: 2.311326  [38464/60000]\n",
      "loss: 2.293667  [44864/60000]\n",
      "loss: 2.307395  [51264/60000]\n",
      "loss: 2.325466  [57664/60000]\n",
      "Test Error: \n",
      " Accuracy: 8.9%, Avg loss: 2.306398 \n",
      "\n",
      "loss: 2.299937  [   64/60000]\n",
      "loss: 2.291889  [ 6464/60000]\n",
      "loss: 2.310803  [12864/60000]\n",
      "loss: 2.309150  [19264/60000]\n",
      "loss: 2.308951  [25664/60000]\n",
      "loss: 2.304678  [32064/60000]\n",
      "loss: 2.311326  [38464/60000]\n",
      "loss: 2.293667  [44864/60000]\n",
      "loss: 2.307395  [51264/60000]\n",
      "loss: 2.325466  [57664/60000]\n",
      "Test Error: \n",
      " Accuracy: 8.9%, Avg loss: 2.306398 \n",
      "\n",
      "loss: 2.299937  [   64/60000]\n",
      "loss: 2.291889  [ 6464/60000]\n",
      "loss: 2.310803  [12864/60000]\n",
      "loss: 2.309150  [19264/60000]\n",
      "loss: 2.308951  [25664/60000]\n",
      "loss: 2.304678  [32064/60000]\n",
      "loss: 2.311326  [38464/60000]\n",
      "loss: 2.293667  [44864/60000]\n",
      "loss: 2.307395  [51264/60000]\n",
      "loss: 2.325466  [57664/60000]\n",
      "Test Error: \n",
      " Accuracy: 8.9%, Avg loss: 2.306398 \n",
      "\n",
      "Done!\n",
      "Training time: 41.66 seconds\n"
     ]
    }
   ],
   "source": [
    "epochs = 5\n",
    "start_time = time.time()\n",
    "for t in range(epochs):\n",
    "    # print(f\"Epoch {t+1}\\n-------------------------------\")\n",
    "    train(train_dataloader, model, loss_fn, optimizer)\n",
    "    test(test_dataloader, model, loss_fn)\n",
    "end_time = time.time()\n",
    "print(\"Done!\")\n",
    "print(f\"Training time: {end_time-start_time:.2f} seconds\")"
   ]
  },
  {
   "cell_type": "code",
   "execution_count": 30,
   "metadata": {},
   "outputs": [],
   "source": [
    "# Define model\n",
    "class LetNet(nn.Module):\n",
    "    def __init__(self):\n",
    "        super().__init__()\n",
    "        self.relu = nn.ReLU()\n",
    "        self.pool = nn.AvgPool2d(kernel_size=(2,2),stride=(2,2))\n",
    "        self.conv1 = nn.Conv2d(1, 6, kernel_size=(4,4), stride=(1,1), padding=(0,0))\n",
    "        self.conv2 = nn.Conv2d(6, 16, kernel_size=(4,4), stride=(1,1), padding=(0,0))\n",
    "        self.conv3 = nn.Conv2d(16, 120, kernel_size=(4,4), stride=(1,1), padding=(0,0))\n",
    "        self.linear1 = nn.Linear(120, 84)\n",
    "        self.linear2 = nn.Linear(84, 10)\n",
    "\n",
    "    def forward(self, x):\n",
    "        x = self.relu(self.conv1(x))\n",
    "        x = self.pool(x)\n",
    "        x = self.relu(self.conv2(x))\n",
    "        x = self.pool(x)\n",
    "        x = self.relu(self.conv3(x))\n",
    "        x = x.reshape(x.shape[0], -1)\n",
    "        x = self.relu(self.linear1(x))\n",
    "        x = self.linear2(x)\n",
    "        return x\n",
    "\n",
    "model = LetNet().to(device)"
   ]
  },
  {
   "cell_type": "code",
   "execution_count": 25,
   "metadata": {},
   "outputs": [
    {
     "name": "stdout",
     "output_type": "stream",
     "text": [
      "torch.Size([64, 10])\n"
     ]
    }
   ],
   "source": [
    "x = torch.randn(64, 1, 28, 28)\n",
    "model = LetNet()\n",
    "print(model(x).shape)"
   ]
  }
 ],
 "metadata": {
  "kernelspec": {
   "display_name": ".env",
   "language": "python",
   "name": "python3"
  },
  "language_info": {
   "codemirror_mode": {
    "name": "ipython",
    "version": 3
   },
   "file_extension": ".py",
   "mimetype": "text/x-python",
   "name": "python",
   "nbconvert_exporter": "python",
   "pygments_lexer": "ipython3",
   "version": "3.13.2"
  }
 },
 "nbformat": 4,
 "nbformat_minor": 2
}
